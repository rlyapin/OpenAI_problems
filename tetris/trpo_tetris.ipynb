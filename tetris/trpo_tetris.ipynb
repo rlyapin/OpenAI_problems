{
 "cells": [
  {
   "cell_type": "code",
   "execution_count": null,
   "metadata": {},
   "outputs": [],
   "source": [
    "import tensorflow as tf\n",
    "import numpy as np\n",
    "import skimage.transform\n",
    "import matplotlib.pyplot as plt\n",
    "import imageio\n",
    "%matplotlib inline"
   ]
  },
  {
   "cell_type": "code",
   "execution_count": null,
   "metadata": {},
   "outputs": [],
   "source": [
    "from tetris_env import TetrisEnv\n",
    "\n",
    "env = TetrisEnv(max_steps=10000)\n",
    "ob = env.reset()"
   ]
  },
  {
   "cell_type": "markdown",
   "metadata": {},
   "source": [
    "## Training a TRPO model"
   ]
  },
  {
   "cell_type": "code",
   "execution_count": null,
   "metadata": {},
   "outputs": [],
   "source": [
    "import sys\n",
    "sys.path.append(\"..\")\n",
    "from rl_agent import RL_Agent\n",
    "from rl_learner import TRPO_Learner"
   ]
  },
  {
   "cell_type": "code",
   "execution_count": null,
   "metadata": {},
   "outputs": [],
   "source": [
    "class Tetris_Agent(RL_Agent):\n",
    "    # Overwriting supposedly abstract RL_Agent class\n",
    "    # All what is left is to actually provide the specific model to choose action\n",
    "    # It is still implied that\n",
    "    # 1) __init__ method defines all its variables in model_name scope\n",
    "    # 2) the class has self.session, self.prob_layer and self.log_prob_layer methods\n",
    "    # The remaining functionality needed in PG and TRPO learners is still defined in abstract base\n",
    "    def __init__(self, model_name):\n",
    "        RL_Agent.__init__(self, model_name)\n",
    "        with tf.variable_scope(model_name):\n",
    "            self.session = tf.Session()\n",
    "            self.n_actions = 4\n",
    "\n",
    "            self.input_layer = tf.placeholder(shape=[None, 20, 10], dtype=tf.float32)\n",
    "            self.input_expanded = tf.expand_dims(self.input_layer, axis=-1)\n",
    "            \n",
    "            self.conv_1 = tf.layers.conv2d(self.input_expanded, filters=8, kernel_size=3, strides=1, padding=\"same\", activation=tf.nn.relu)\n",
    "            self.conv_2 = tf.layers.conv2d(self.conv_1, filters=8, kernel_size=3, strides=1, padding=\"same\", activation=tf.nn.relu)\n",
    "            self.pool_1 = tf.layers.max_pooling2d(self.conv_2, pool_size=3, strides=2, padding=\"same\")\n",
    "\n",
    "            self.flat = tf.contrib.layers.flatten(self.pool_1)\n",
    "            self.dense_1 = tf.layers.dense(self.flat, units=10, activation=tf.nn.relu)\n",
    "            self.dense_2 = tf.layers.dense(self.dense_1, units=4)\n",
    "                        \n",
    "            self.prob_layer = tf.nn.softmax(self.dense_2)\n",
    "            self.log_prob_layer = tf.log(self.prob_layer)\n",
    "            \n",
    "            \n",
    "                        \n",
    "            self.session.run(tf.global_variables_initializer())"
   ]
  },
  {
   "cell_type": "code",
   "execution_count": null,
   "metadata": {},
   "outputs": [],
   "source": [
    "tf.reset_default_graph()\n",
    "trpo = TRPO_Learner(rl_agent=Tetris_Agent(\"2018_02_01_tetris_trpo\"), \n",
    "                    game_env=env,\n",
    "                    discount=0.99, \n",
    "                    batch_size=1000, \n",
    "                    frame_cap=None,\n",
    "                    trpo_delta=0.005,\n",
    "                    line_search_option=\"max\")\n",
    "\n",
    "import time\n",
    "start_time = time.time()\n",
    "for i in range(100):\n",
    "    trpo.step()\n",
    "print \"Used time: {} seconds\".format(time.time() - start_time)"
   ]
  },
  {
   "cell_type": "markdown",
   "metadata": {},
   "source": [
    "## Playing a random game"
   ]
  },
  {
   "cell_type": "code",
   "execution_count": null,
   "metadata": {},
   "outputs": [],
   "source": [
    "played_frames = [ob]"
   ]
  },
  {
   "cell_type": "code",
   "execution_count": null,
   "metadata": {},
   "outputs": [],
   "source": [
    "done = False\n",
    "while not done:\n",
    "    action = np.random.choice(range(4))\n",
    "    ob, reward, done = env.step(action)\n",
    "    played_frames.append(ob)"
   ]
  },
  {
   "cell_type": "code",
   "execution_count": null,
   "metadata": {},
   "outputs": [],
   "source": [
    "from IPython.display import HTML\n",
    "gif_location = \"simulations/\" + \"random_agent\" + \".gif\"\n",
    "imageio.mimsave(gif_location, played_frames)\n",
    "HTML('<img src=\"' + gif_location + '\" width=\"20%\">')"
   ]
  }
 ],
 "metadata": {
  "kernelspec": {
   "display_name": "Python 2",
   "language": "python",
   "name": "python2"
  },
  "language_info": {
   "codemirror_mode": {
    "name": "ipython",
    "version": 2
   },
   "file_extension": ".py",
   "mimetype": "text/x-python",
   "name": "python",
   "nbconvert_exporter": "python",
   "pygments_lexer": "ipython2",
   "version": "2.7.13"
  }
 },
 "nbformat": 4,
 "nbformat_minor": 2
}
