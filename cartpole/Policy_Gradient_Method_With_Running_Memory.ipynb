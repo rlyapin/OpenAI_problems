{
 "cells": [
  {
   "cell_type": "code",
   "execution_count": null,
   "metadata": {
    "collapsed": true
   },
   "outputs": [],
   "source": [
    "import gym\n",
    "from matplotlib import animation\n",
    "import matplotlib.pyplot as plt\n",
    "import numpy as np"
   ]
  },
  {
   "cell_type": "code",
   "execution_count": null,
   "metadata": {
    "collapsed": true
   },
   "outputs": [],
   "source": [
    "%matplotlib inline"
   ]
  },
  {
   "cell_type": "code",
   "execution_count": null,
   "metadata": {
    "collapsed": false
   },
   "outputs": [],
   "source": [
    "ENV = gym.make('CartPole-v1')\n",
    "ENV.reset()"
   ]
  },
  {
   "cell_type": "code",
   "execution_count": null,
   "metadata": {
    "collapsed": true
   },
   "outputs": [],
   "source": [
    "def initialize_random_weights(mean, std):\n",
    "    return np.random.normal(mean, std, 4)"
   ]
  },
  {
   "cell_type": "code",
   "execution_count": null,
   "metadata": {
    "collapsed": true
   },
   "outputs": [],
   "source": [
    "def sigmoid(weights, observation):\n",
    "    weighted_sum = sum([weights[i] * observation[i] for i in range(len(weights))])\n",
    "    return 1.0 / (1 + np.exp(-weighted_sum)) \n",
    "\n",
    "def grad_log_sigmoid(weights, observation, action):\n",
    "    if action == 1:\n",
    "        return observation * (1 - sigmoid(weights, observation))\n",
    "    else:\n",
    "        return - observation * sigmoid(weights, observation)\n",
    "\n",
    "def get_action(weights, observation):\n",
    "    prob_one = sigmoid(weights, observation)\n",
    "    return int(np.random.random() <= prob_one)"
   ]
  },
  {
   "cell_type": "code",
   "execution_count": null,
   "metadata": {
    "collapsed": true
   },
   "outputs": [],
   "source": [
    "def record_cartpole_run(weights):\n",
    "    observation = ENV.reset()\n",
    "    \n",
    "    all_observations = np.zeros((1, 4))\n",
    "    all_observations[0, :] = observation\n",
    "    \n",
    "    all_actions = []\n",
    "    for t in range(1000):\n",
    "        action = get_action(weights, observation)\n",
    "        all_actions.append(action)\n",
    "        \n",
    "        observation, reward, done, info = ENV.step(action)\n",
    "        all_observations = np.vstack((all_observations, observation))\n",
    "        \n",
    "        if done:\n",
    "            break\n",
    "\n",
    "    return all_observations[:-1, :], all_actions "
   ]
  },
  {
   "cell_type": "code",
   "execution_count": null,
   "metadata": {
    "collapsed": true
   },
   "outputs": [],
   "source": [
    "def get_grad_reward(weights, obs, actions, rewards):\n",
    "    grad_reward = np.zeros(4)\n",
    "    for i in xrange(len(actions)):\n",
    "        grad_reward += grad_log_sigmoid(weights, obs[i, :], actions[i]) * rewards[i]\n",
    "    return grad_reward"
   ]
  },
  {
   "cell_type": "code",
   "execution_count": null,
   "metadata": {
    "collapsed": false
   },
   "outputs": [],
   "source": [
    "n_runs = 10 ** 3\n",
    "memory_size = 50\n",
    "last_games = [None] * memory_size\n",
    "last_actions = [None] * memory_size\n",
    "\n",
    "weights = initialize_random_weights(0, 1)\n",
    "weights_cap = 100\n",
    "beta = 0\n",
    "learning_rate = 10 ** (-3)\n",
    "current_score = [0] * n_runs\n",
    "weights_norms = [0] * n_runs\n",
    "\n",
    "for i in range(n_runs):\n",
    "    if i % 100 == 0:\n",
    "        print i, weights, beta\n",
    "                \n",
    "    obs, actions = record_cartpole_run(weights)\n",
    "    current_score[i] = len(actions)\n",
    "    last_games.pop(0)\n",
    "    last_games.append(obs)\n",
    "    last_actions.pop(0)\n",
    "    last_actions.append(actions)    \n",
    "    \n",
    "    all_obs = np.array([]).reshape(0,4)\n",
    "    all_actions = np.array([])\n",
    "    all_rewards = np.array([])\n",
    "    game_counter = 0\n",
    "    for j in range(memory_size):\n",
    "        if last_games[j] is not None:\n",
    "            game_counter += 1\n",
    "            all_obs = np.vstack((all_obs, last_games[j]))\n",
    "            all_rewards = np.hstack((all_rewards, np.arange(len(last_games[j]))[::-1]))\n",
    "            all_actions = np.hstack((all_actions, last_actions[j]))\n",
    "        \n",
    "    grad_reward = get_grad_reward(weights, all_obs, all_actions, all_rewards)\n",
    "        \n",
    "    weights += learning_rate * (np.clip(grad_reward / game_counter + 2 * beta * weights, -5, 5)) \n",
    "#     print grad_reward / game_counter\n",
    "    weights_norm = sum([x * x for x in weights])\n",
    "    weights_norms[i] = weights_norm\n",
    "    beta -= learning_rate * (weights_norm - weights_cap)\n",
    "    \n",
    "    \n",
    "print weights, current_score[-1]"
   ]
  },
  {
   "cell_type": "code",
   "execution_count": null,
   "metadata": {
    "collapsed": false
   },
   "outputs": [],
   "source": [
    "sum(current_score[-100:]) / 100"
   ]
  },
  {
   "cell_type": "code",
   "execution_count": null,
   "metadata": {
    "collapsed": false
   },
   "outputs": [],
   "source": [
    "plt.subplot(2, 1, 1)\n",
    "plt.plot(range(len(current_score)), current_score, label=\"reward\")\n",
    "plt.legend()\n",
    "\n",
    "plt.subplot(2, 1, 2)\n",
    "plt.plot(range(len(weights_norms)), weights_norms, label=\"weights_norm\")\n",
    "plt.legend()\n",
    "plt.show()"
   ]
  }
 ],
 "metadata": {
  "kernelspec": {
   "display_name": "Python 2",
   "language": "python",
   "name": "python2"
  },
  "language_info": {
   "codemirror_mode": {
    "name": "ipython",
    "version": 2
   },
   "file_extension": ".py",
   "mimetype": "text/x-python",
   "name": "python",
   "nbconvert_exporter": "python",
   "pygments_lexer": "ipython2",
   "version": "2.7.12"
  }
 },
 "nbformat": 4,
 "nbformat_minor": 1
}
