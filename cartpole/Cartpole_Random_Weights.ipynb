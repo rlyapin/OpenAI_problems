{
 "cells": [
  {
   "cell_type": "code",
   "execution_count": null,
   "metadata": {
    "collapsed": false
   },
   "outputs": [],
   "source": [
    "import gym\n",
    "from JSAnimation.IPython_display import display_animation\n",
    "from matplotlib import animation\n",
    "from IPython.display import display\n",
    "import matplotlib.pyplot as plt\n",
    "import numpy as np"
   ]
  },
  {
   "cell_type": "code",
   "execution_count": null,
   "metadata": {
    "collapsed": true
   },
   "outputs": [],
   "source": [
    "%matplotlib inline"
   ]
  },
  {
   "cell_type": "code",
   "execution_count": null,
   "metadata": {
    "collapsed": false
   },
   "outputs": [],
   "source": [
    "env = gym.make('CartPole-v1')\n",
    "env.reset()"
   ]
  },
  {
   "cell_type": "code",
   "execution_count": null,
   "metadata": {
    "collapsed": true
   },
   "outputs": [],
   "source": [
    "def display_frames_as_gif(frames):\n",
    "    \"\"\"\n",
    "    Displays a list of frames as a gif, with controls\n",
    "    \"\"\"\n",
    "    #plt.figure(figsize=(frames[0].shape[1] / 72.0, frames[0].shape[0] / 72.0), dpi = 72)\n",
    "    patch = plt.imshow(frames[0])\n",
    "    plt.axis('off')\n",
    "\n",
    "    def animate(i):\n",
    "        patch.set_data(frames[i])\n",
    "\n",
    "    anim = animation.FuncAnimation(plt.gcf(), animate, frames = len(frames), interval=50)\n",
    "    display(display_animation(anim, default_mode='loop'))"
   ]
  },
  {
   "cell_type": "code",
   "execution_count": null,
   "metadata": {
    "collapsed": true
   },
   "outputs": [],
   "source": [
    "def initialize_random_weights(mean, std):\n",
    "    return np.random.normal(mean, std, 4)\n",
    "#     return 2 * np.random.random(4) - 1"
   ]
  },
  {
   "cell_type": "code",
   "execution_count": null,
   "metadata": {
    "collapsed": true
   },
   "outputs": [],
   "source": [
    "def get_action(weights, observation):\n",
    "    weighted_sum = sum([weights[i] * observation[i] for i in range(len(weights))])\n",
    "    return int(weighted_sum >= 0)\n",
    "\n",
    "def sigmoid(weights, observation):\n",
    "    weighted_sum = sum([weights[i] * observation[i] for i in range(len(weights))])\n",
    "    return 1.0 / (1 + np.exp(-weighted_sum)) \n",
    "\n",
    "def get_random_action(weights, observation):\n",
    "    prob_one = sigmoid(weights, observation)\n",
    "    return int(np.random.random() <= prob_one)"
   ]
  },
  {
   "cell_type": "code",
   "execution_count": null,
   "metadata": {
    "collapsed": true
   },
   "outputs": [],
   "source": [
    "def one_cartpole_run(weights):\n",
    "    observation = ENV.reset()\n",
    "    cum_reward = 0\n",
    "    for t in range(1000):\n",
    "        action = get_random_action(weights, observation)\n",
    "        observation, reward, done, info = ENV.step(action)\n",
    "        cum_reward += reward\n",
    "        if done:\n",
    "            break\n",
    "    return cum_reward"
   ]
  },
  {
   "cell_type": "code",
   "execution_count": null,
   "metadata": {
    "collapsed": false
   },
   "outputs": [],
   "source": [
    "mean = 0\n",
    "std = 1\n",
    "ENV = gym.make('CartPole-v1')\n",
    "\n",
    "n_iter = 10 ** 3\n",
    "val_iter = 10 ** 2\n",
    "best_score = 0\n",
    "best_weights = []\n",
    "running_best = [0] * n_iter\n",
    "current_score = [0] * n_iter\n",
    "for i in range(n_iter):\n",
    "    new_weights = initialize_random_weights(mean, std)\n",
    "    new_score = one_cartpole_run(new_weights)\n",
    "    if new_score > best_score:\n",
    "        best_score = new_score\n",
    "        best_weights = new_weights\n",
    "    running_best[i] = best_score\n",
    "    current_score[i] = new_score\n",
    "    \n",
    "best_score_validation = 0\n",
    "for i in range(val_iter):\n",
    "    best_score_validation += one_cartpole_run(best_weights)\n",
    "best_score_validation /= float(val_iter)\n",
    "\n",
    "print best_weights, best_score, best_score_validation"
   ]
  },
  {
   "cell_type": "code",
   "execution_count": null,
   "metadata": {
    "collapsed": false
   },
   "outputs": [],
   "source": [
    "mean = 0\n",
    "std = 1\n",
    "eps = 0.01\n",
    "ENV = gym.make('CartPole-v1')\n",
    "\n",
    "n_iter = 10 ** 3\n",
    "val_iter = 10 ** 2\n",
    "best_score_2 = 0\n",
    "running_best_2 = [0] * n_iter\n",
    "current_score_2 = [0] * n_iter\n",
    "best_weights_2 = initialize_random_weights(mean, std)\n",
    "for i in range(n_iter):\n",
    "    new_weights = best_weights_2 + eps * initialize_random_weights(mean, std)\n",
    "    new_score = one_cartpole_run(new_weights)\n",
    "    if new_score > best_score_2:\n",
    "        best_score_2 = new_score\n",
    "        best_weights_2 = new_weights\n",
    "    running_best_2[i] = best_score_2\n",
    "    current_score_2[i] = new_score\n",
    "    \n",
    "best_score_validation = 0\n",
    "for i in range(val_iter):\n",
    "    best_score_validation += one_cartpole_run(best_weights_2)\n",
    "best_score_validation /= float(val_iter)\n",
    "\n",
    "print best_score_2, best_score_validation"
   ]
  },
  {
   "cell_type": "code",
   "execution_count": null,
   "metadata": {
    "collapsed": false
   },
   "outputs": [],
   "source": [
    "plt.plot(range(n_iter), running_best, label=\"best_random\")\n",
    "plt.plot(range(n_iter), current_score, label=\"current_random\")\n",
    "plt.plot(range(n_iter), running_best_2, label=\"best_hill\")\n",
    "plt.plot(range(n_iter), current_score_2, label=\"current_hill\")\n",
    "plt.ylabel(\"seconds\")\n",
    "plt.xlabel(\"iter\")\n",
    "plt.legend(loc=\"best\")\n",
    "plt.title(\"Cartpole performance with random weights initialization\")\n",
    "plt.ylim([0, 1000])\n",
    "plt.show()"
   ]
  },
  {
   "cell_type": "code",
   "execution_count": null,
   "metadata": {
    "collapsed": false
   },
   "outputs": [],
   "source": [
    "env = gym.make('CartPole-v1')\n",
    "\n",
    "# Run a demo of the environment\n",
    "observation = env.reset()\n",
    "cum_reward = 0\n",
    "frames = []\n",
    "for t in range(1000):\n",
    "    # Render into buffer. \n",
    "    frames.append(env.render(mode = 'rgb_array'))\n",
    "    action = env.action_space.sample()\n",
    "    observation, reward, done, info = env.step(action)\n",
    "    if done:\n",
    "        break\n",
    "env.render(close=True)\n",
    "display_frames_as_gif(frames)"
   ]
  }
 ],
 "metadata": {
  "kernelspec": {
   "display_name": "Python 2",
   "language": "python",
   "name": "python2"
  },
  "language_info": {
   "codemirror_mode": {
    "name": "ipython",
    "version": 2
   },
   "file_extension": ".py",
   "mimetype": "text/x-python",
   "name": "python",
   "nbconvert_exporter": "python",
   "pygments_lexer": "ipython2",
   "version": "2.7.12"
  }
 },
 "nbformat": 4,
 "nbformat_minor": 1
}
