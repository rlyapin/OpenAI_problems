{
 "cells": [
  {
   "cell_type": "code",
   "execution_count": null,
   "metadata": {
    "collapsed": true
   },
   "outputs": [],
   "source": [
    "import gym\n",
    "import tensorflow as tf\n",
    "import numpy as np\n",
    "import matplotlib.pyplot as plt"
   ]
  },
  {
   "cell_type": "code",
   "execution_count": null,
   "metadata": {
    "collapsed": true
   },
   "outputs": [],
   "source": [
    "%matplotlib inline"
   ]
  },
  {
   "cell_type": "code",
   "execution_count": null,
   "metadata": {
    "collapsed": false
   },
   "outputs": [],
   "source": [
    "env = gym.make('CartPole-v1')\n",
    "env.reset()"
   ]
  },
  {
   "cell_type": "markdown",
   "metadata": {},
   "source": [
    "## Defining TRPO setup"
   ]
  },
  {
   "cell_type": "code",
   "execution_count": null,
   "metadata": {
    "collapsed": true
   },
   "outputs": [],
   "source": [
    "def get_padded_gradients(loss, var_list):\n",
    "    grads = tf.gradients(loss, var_list)\n",
    "    return [g if g is not None else tf.zeros(v.shape)\n",
    "            for g, v in zip(grads, var_list)]\n",
    "\n",
    "def get_flattened_gradients(loss, var_list):\n",
    "    padded_gradients = get_padded_gradients(loss, var_list)\n",
    "    return tf.concat([tf.reshape(x, [-1]) for x in padded_gradients], 0)\n",
    "\n",
    "def sum_discounted_rewards(rewards, discount):\n",
    "    discounted_rewards = list(rewards)\n",
    "    pointer = len(rewards) - 1\n",
    "    acc_discounted_sum = rewards[-1]\n",
    "    while pointer > 0:\n",
    "        acc_discounted_sum *= 0.95\n",
    "        pointer -= 1\n",
    "        discounted_rewards[pointer] += acc_discounted_sum\n",
    "        acc_discounted_sum += rewards[pointer]\n",
    "    return discounted_rewards"
   ]
  },
  {
   "cell_type": "code",
   "execution_count": null,
   "metadata": {
    "collapsed": false
   },
   "outputs": [],
   "source": [
    "class RL_Agent:\n",
    "    \n",
    "    def __init__(self, model_name):\n",
    "        with tf.variable_scope(model_name):\n",
    "            self.model_name = model_name\n",
    "            self.session = tf.Session()\n",
    "            \n",
    "            self.input_layer = tf.placeholder(shape=[None, 4], dtype=tf.float32)\n",
    "            self.dense1_layer = tf.layers.dense(self.input_layer, \n",
    "                                                units=8, use_bias=True, \n",
    "                                                activation=tf.nn.relu, name=\"dense1_weights\"\n",
    "                                               )\n",
    "            \n",
    "            self.dense2_layer = tf.layers.dense(self.dense1_layer, \n",
    "                                                units=2, use_bias=True, \n",
    "                                                activation=tf.nn.relu, name=\"dense2_weights\"\n",
    "                                               ) \n",
    "            \n",
    "            self.prob_layer = tf.nn.softmax(self.dense2_layer)\n",
    "            self.log_prob_layer = tf.log(self.prob_layer)\n",
    "                        \n",
    "            self.session.run(tf.global_variables_initializer())\n",
    "\n",
    "    def model_variables(self):\n",
    "        return [x for x in tf.trainable_variables() if self.model_name in x.name]\n",
    "    \n",
    "    def model_size(self):\n",
    "        var_shapes = [tf.size(x) for x in self.model_variables()]\n",
    "        return self.session.run(tf.reduce_sum(var_shapes))\n",
    "            \n",
    "    def predict(self, states):\n",
    "        return self.session.run(self.prob_layer, feed_dict={self.input_layer: states})\n",
    "    \n",
    "    def grad_log_prob_actions(self, states, actions, rewards):\n",
    "        # Return a sum of log_prob gradients weighted by discounted sum of future rewards\n",
    "        # By design this function is supposed to be called once per each individual game\n",
    "        action_mask = tf.one_hot(actions, depth=2, on_value=1.0, off_value=0.0, axis=-1)\n",
    "        picked_log_prob_actions = tf.reduce_sum(action_mask * self.log_prob_layer, axis=1)\n",
    "        weighted_log_prob_actions = picked_log_prob_actions * rewards\n",
    "        grad_log_prob_actions = get_flattened_gradients(weighted_log_prob_actions, self.model_variables())\n",
    "        return self.session.run(grad_log_prob_actions, feed_dict={self.input_layer: states})\n",
    "    \n",
    "    def fisher_vector_product(self, states, vector):\n",
    "        # This function is supposed to return the product of estimated fisher information matrix and a specified vector\n",
    "        # As I hope to reliably estimate this matrix, I take all states accumulated in a batch of games\n",
    "        expected_log_prob = tf.reduce_sum(tf.stop_gradient(self.prob_layer) * self.log_prob_layer, axis=1)\n",
    "        log_prob_grad = get_flattened_gradients(expected_log_prob, self.model_variables())\n",
    "        grad_vector_product = tf.reduce_sum(log_prob_grad * vector)\n",
    "        fisher_vector_product = -get_flattened_gradients(grad_vector_product, self.model_variables()) / states.shape[0]\n",
    "        return self.session.run(fisher_vector_product, feed_dict={self.input_layer: states})            "
   ]
  },
  {
   "cell_type": "code",
   "execution_count": null,
   "metadata": {
    "collapsed": false
   },
   "outputs": [],
   "source": [
    "tf.reset_default_graph()\n",
    "\n",
    "cartpole_model = RL_Agent(\"cartpole_model\")\n",
    "print cartpole_model.predict(env.reset().reshape((1, 4)))\n",
    "print cartpole_model.model_variables()\n",
    "print cartpole_model.model_size()"
   ]
  },
  {
   "cell_type": "code",
   "execution_count": null,
   "metadata": {
    "collapsed": true
   },
   "outputs": [],
   "source": [
    "class TRPO_Learner:\n",
    "    \n",
    "    def __init__(self, rl_agent, game_env, trpo_delta, discount, batch_size):\n",
    "        self.session = rl_agent.session\n",
    "        self.agent = rl_agent\n",
    "        self.env = game_env\n",
    "        \n",
    "        self.trpo_delta = trpo_delta\n",
    "        self.discount = discount\n",
    "        self.batch_size = batch_size\n",
    "        \n",
    "    def play_single_game(self):\n",
    "        states = None\n",
    "        actions = []\n",
    "        rewards = []\n",
    "        \n",
    "        observation = self.env.reset().reshape((1, 4))\n",
    "        done = False\n",
    "        \n",
    "        while done == False:\n",
    "            if states is None:\n",
    "                states = observation\n",
    "            else:\n",
    "                states = np.concatenate((states, observation), axis=0)\n",
    "            prob_actions = self.agent.predict(observation)[0]\n",
    "            action = np.random.choice(np.arange(len(prob_actions)), p=prob_actions)\n",
    "            actions.append(action)\n",
    "            observation, reward, done, info = self.env.step(action)\n",
    "            observation = observation.reshape((1, 4))\n",
    "            rewards.append(reward)\n",
    "            \n",
    "        return states, actions, rewards\n",
    "    \n",
    "    def play_batch(self):        \n",
    "        grad_reward = np.zeros(self.agent.model_size())\n",
    "        all_states = []\n",
    "        \n",
    "        for i in range(self.batch_size):\n",
    "\n",
    "            states, actions, rewards = self.play_single_game()\n",
    "            all_states.append(states)\n",
    "            discounted_rewards = sum_discounted_rewards(rewards, self.discount)\n",
    "            \n",
    "            grad_reward += cartpole_model.grad_log_prob_actions(states, \n",
    "                                                                tf.constant(actions),\n",
    "                                                                tf.constant(discounted_rewards)\n",
    "                                                               )\n",
    "            \n",
    "        return grad_reward / self.batch_size, reduce(lambda x, y: np.concatenate((x, y), axis=0), all_states)\n",
    "    \n",
    "    def TRPO_step(self):\n",
    "        grad_reward, obs_states = self.play_batch()\n",
    "        return 0\n",
    "                    "
   ]
  },
  {
   "cell_type": "code",
   "execution_count": null,
   "metadata": {
    "collapsed": false
   },
   "outputs": [],
   "source": [
    "np.zeros(5).reshape((-1, 1)).shape\n",
    "np.concatenate((np.zeros((1, 5)), np.ones((1, 5))), axis=0)"
   ]
  },
  {
   "cell_type": "code",
   "execution_count": null,
   "metadata": {
    "collapsed": false
   },
   "outputs": [],
   "source": [
    "trpo = TRPO_Learner(cartpole_model, env, 0.05, 0.95, 50)\n",
    "\n",
    "states, actions, rewards = trpo.play_single_game()"
   ]
  },
  {
   "cell_type": "code",
   "execution_count": null,
   "metadata": {
    "collapsed": false
   },
   "outputs": [],
   "source": [
    "print cartpole_model.grad_log_prob_actions(states, \n",
    "                                           tf.constant(actions), \n",
    "                                           tf.constant(sum_discounted_rewards(rewards, trpo.discount))\n",
    "                                          )"
   ]
  },
  {
   "cell_type": "code",
   "execution_count": null,
   "metadata": {
    "collapsed": true
   },
   "outputs": [],
   "source": [
    "grad_reward, obs_states = trpo.play_batch()"
   ]
  },
  {
   "cell_type": "code",
   "execution_count": null,
   "metadata": {
    "collapsed": false
   },
   "outputs": [],
   "source": [
    "trpo.agent.fisher_vector_product(obs_states, tf.constant([1.0] * trpo.agent.model_size()))"
   ]
  }
 ],
 "metadata": {
  "kernelspec": {
   "display_name": "Python 2",
   "language": "python",
   "name": "python2"
  },
  "language_info": {
   "codemirror_mode": {
    "name": "ipython",
    "version": 2
   },
   "file_extension": ".py",
   "mimetype": "text/x-python",
   "name": "python",
   "nbconvert_exporter": "python",
   "pygments_lexer": "ipython2",
   "version": "2.7.12"
  }
 },
 "nbformat": 4,
 "nbformat_minor": 1
}
