{
 "cells": [
  {
   "cell_type": "code",
   "execution_count": null,
   "metadata": {
    "collapsed": true
   },
   "outputs": [],
   "source": [
    "import gym\n",
    "from matplotlib import animation\n",
    "import matplotlib.pyplot as plt\n",
    "import numpy as np"
   ]
  },
  {
   "cell_type": "code",
   "execution_count": null,
   "metadata": {
    "collapsed": true
   },
   "outputs": [],
   "source": [
    "%matplotlib inline"
   ]
  },
  {
   "cell_type": "code",
   "execution_count": null,
   "metadata": {
    "collapsed": false
   },
   "outputs": [],
   "source": [
    "ENV = gym.make('CartPole-v1')\n",
    "ENV.reset()"
   ]
  },
  {
   "cell_type": "code",
   "execution_count": null,
   "metadata": {
    "collapsed": true
   },
   "outputs": [],
   "source": [
    "def initialize_random_weights(mean, std):\n",
    "    return np.random.normal(mean, std, 4)"
   ]
  },
  {
   "cell_type": "code",
   "execution_count": null,
   "metadata": {
    "collapsed": true
   },
   "outputs": [],
   "source": [
    "def sigmoid(weights, observation):\n",
    "    weighted_sum = sum([weights[i] * observation[i] for i in range(len(weights))])\n",
    "    return 1.0 / (1 + np.exp(-weighted_sum)) \n",
    "\n",
    "def grad_log_sigmoid(weights, observation, action):\n",
    "    if action == 1:\n",
    "        return observation * (1 - sigmoid(weights, observation))\n",
    "    else:\n",
    "        return - observation * sigmoid(weights, observation)\n",
    "\n",
    "def get_action(weights, observation):\n",
    "    prob_one = sigmoid(weights, observation)\n",
    "    return int(np.random.random() <= prob_one)"
   ]
  },
  {
   "cell_type": "code",
   "execution_count": null,
   "metadata": {
    "collapsed": true
   },
   "outputs": [],
   "source": [
    "def one_cartpole_run(weights):\n",
    "    observation = ENV.reset()\n",
    "    cum_reward = 0\n",
    "    grad_log_sum = np.zeros(4)\n",
    "    for t in range(1000):\n",
    "        action = get_action(weights, observation)\n",
    "        observation, reward, done, info = ENV.step(action)\n",
    "        cum_reward += reward\n",
    "        grad_log_sum += grad_log_sigmoid(weights, observation, action)\n",
    "        if done:\n",
    "            break\n",
    "    return cum_reward, grad_log_sum"
   ]
  },
  {
   "cell_type": "code",
   "execution_count": null,
   "metadata": {
    "collapsed": true
   },
   "outputs": [],
   "source": [
    "def record_cartpole_run(weights):\n",
    "    observation = ENV.reset()\n",
    "    \n",
    "    all_observations = np.zeros((1, 4))\n",
    "    all_observations[0, :] = observation\n",
    "    \n",
    "    all_actions = []\n",
    "    for t in range(1000):\n",
    "        action = get_action(weights, observation)\n",
    "        all_actions.append(action)\n",
    "        \n",
    "        observation, reward, done, info = ENV.step(action)\n",
    "        all_observations = np.vstack((all_observations, observation))\n",
    "        \n",
    "        if done:\n",
    "            break\n",
    "\n",
    "    return all_observations[:-1, :], all_actions "
   ]
  },
  {
   "cell_type": "code",
   "execution_count": null,
   "metadata": {
    "collapsed": true
   },
   "outputs": [],
   "source": [
    "def get_grad_reward(weights, obs, actions):\n",
    "    grad_reward = np.zeros(4)\n",
    "    for i in xrange(len(actions)):\n",
    "        grad_reward += grad_log_sigmoid(weights, obs[i, :], actions[i]) * (len(actions) - i)\n",
    "    return grad_reward"
   ]
  },
  {
   "cell_type": "code",
   "execution_count": null,
   "metadata": {
    "collapsed": false
   },
   "outputs": [],
   "source": [
    "batch_n = 10 ** 2\n",
    "grad_sample = 100\n",
    "weights = initialize_random_weights(0, 1)\n",
    "learning_rate = 10 ** (-2)\n",
    "beta = 1\n",
    "current_score = [0] * (batch_n * grad_sample)\n",
    "\n",
    "for i in range(batch_n):\n",
    "    if i % 10 == 0:\n",
    "        print i, weights\n",
    "        \n",
    "#     learning_rate *= 0.97\n",
    "    \n",
    "    avg_grad_log_sum = np.zeros(4)\n",
    "    for k in range(grad_sample):\n",
    "#         cum_reward, grad_log_sum = one_cartpole_run(weights)\n",
    "#         avg_grad_log_sum -= grad_log_sum * cum_reward\n",
    "        obs, actions = record_cartpole_run(weights)\n",
    "        avg_grad_log_sum += get_grad_reward(weights, obs, actions)\n",
    "        current_score[i * grad_sample + k] = len(actions)\n",
    "        \n",
    "    avg_grad_log_sum /= grad_sample\n",
    "#     avg_grad_log_sum -= beta * weights\n",
    "#     print np.clip(avg_grad_log_sum, -5, 5), cum_reward\n",
    "    \n",
    "    weights += learning_rate * (avg_grad_log_sum - beta * weights)\n",
    "#     print avg_grad_log_sum - beta * weights\n",
    "\n",
    "print weights, current_score[-1]"
   ]
  },
  {
   "cell_type": "code",
   "execution_count": null,
   "metadata": {
    "collapsed": false
   },
   "outputs": [],
   "source": [
    "sum(current_score[-100:]) / 100"
   ]
  },
  {
   "cell_type": "code",
   "execution_count": null,
   "metadata": {
    "collapsed": false
   },
   "outputs": [],
   "source": [
    "plt.plot(range(len(current_score)), current_score)\n",
    "plt.plot(range(len(current_score)), current_score)\n",
    "plt.show()"
   ]
  },
  {
   "cell_type": "markdown",
   "metadata": {},
   "source": [
    "## Troubleshooting gradient estimation"
   ]
  },
  {
   "cell_type": "code",
   "execution_count": null,
   "metadata": {
    "collapsed": true
   },
   "outputs": [],
   "source": [
    "def log_prob_actions(weights, obs, actions):\n",
    "    log_prob = 0\n",
    "    for i in range(len(actions)):\n",
    "        prob_one = sigmoid(weights, obs[i, :])\n",
    "        if actions[i] == 1:\n",
    "            log_prob += np.log(prob_one)\n",
    "        else:\n",
    "            log_prob += np.log(1 - prob_one)\n",
    "    return log_prob\n",
    "\n",
    "def grad_log_prob_actions(weights, obs, actions):\n",
    "    grad_log_sum = np.zeros(4)\n",
    "    for i in range(len(actions)):\n",
    "        grad_log_sum += grad_log_sigmoid(weights, obs[i, :], actions[i])\n",
    "    return grad_log_sum    "
   ]
  },
  {
   "cell_type": "code",
   "execution_count": null,
   "metadata": {
    "collapsed": false
   },
   "outputs": [],
   "source": [
    "weights = [1, 1, 1, 1]\n",
    "obs, actions = record_cartpole_run(weights)"
   ]
  },
  {
   "cell_type": "code",
   "execution_count": null,
   "metadata": {
    "collapsed": false
   },
   "outputs": [],
   "source": [
    "print log_prob_actions(weights, obs, actions)\n",
    "t = log_prob_actions(weights, obs, actions)\n",
    "d = 0.0001\n",
    "print grad_log_prob_actions(weights, obs, actions)\n",
    "print (log_prob_actions([1 + d, 1, 1, 1], obs, actions) - t) / d\n",
    "print (log_prob_actions([1, 1 + d, 1, 1], obs, actions) - t) / d\n",
    "print (log_prob_actions([1, 1, 1 + d, 1], obs, actions) - t) / d\n",
    "print (log_prob_actions([1, 1, 1, 1 + d], obs, actions) - t) / d"
   ]
  }
 ],
 "metadata": {
  "kernelspec": {
   "display_name": "Python 2",
   "language": "python",
   "name": "python2"
  },
  "language_info": {
   "codemirror_mode": {
    "name": "ipython",
    "version": 2
   },
   "file_extension": ".py",
   "mimetype": "text/x-python",
   "name": "python",
   "nbconvert_exporter": "python",
   "pygments_lexer": "ipython2",
   "version": "2.7.12"
  }
 },
 "nbformat": 4,
 "nbformat_minor": 1
}
