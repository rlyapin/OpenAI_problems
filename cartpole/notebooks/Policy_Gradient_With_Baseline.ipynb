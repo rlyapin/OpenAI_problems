{
 "cells": [
  {
   "cell_type": "code",
   "execution_count": null,
   "metadata": {
    "collapsed": true
   },
   "outputs": [],
   "source": [
    "import gym\n",
    "from matplotlib import animation\n",
    "import matplotlib.pyplot as plt\n",
    "import numpy as np"
   ]
  },
  {
   "cell_type": "code",
   "execution_count": null,
   "metadata": {
    "collapsed": true
   },
   "outputs": [],
   "source": [
    "%matplotlib inline"
   ]
  },
  {
   "cell_type": "code",
   "execution_count": null,
   "metadata": {
    "collapsed": false
   },
   "outputs": [],
   "source": [
    "ENV = gym.make('CartPole-v1')\n",
    "ENV.reset()"
   ]
  },
  {
   "cell_type": "code",
   "execution_count": null,
   "metadata": {
    "collapsed": true
   },
   "outputs": [],
   "source": [
    "def initialize_random_weights(mean, std):\n",
    "    return np.random.normal(mean, std, 4)"
   ]
  },
  {
   "cell_type": "code",
   "execution_count": null,
   "metadata": {
    "collapsed": true
   },
   "outputs": [],
   "source": [
    "def sigmoid(weights, observation):\n",
    "    weighted_sum = sum([weights[i] * observation[i] for i in range(len(weights))])\n",
    "    return 1.0 / (1 + np.exp(-weighted_sum)) \n",
    "\n",
    "def grad_log_sigmoid(weights, observation, action):\n",
    "    if action == 1:\n",
    "        return observation * (1 - sigmoid(weights, observation))\n",
    "    else:\n",
    "        return - observation * sigmoid(weights, observation)\n",
    "\n",
    "def get_action(weights, observation):\n",
    "    prob_one = sigmoid(weights, observation)\n",
    "    return int(np.random.random() <= prob_one)"
   ]
  },
  {
   "cell_type": "code",
   "execution_count": null,
   "metadata": {
    "collapsed": true
   },
   "outputs": [],
   "source": [
    "def one_cartpole_run(weights):\n",
    "    observation = ENV.reset()\n",
    "    cum_reward = 0\n",
    "    grad_log_sum = np.zeros(4)\n",
    "    for t in range(1000):\n",
    "        action = get_action(weights, observation)\n",
    "        observation, reward, done, info = ENV.step(action)\n",
    "        cum_reward += reward\n",
    "        grad_log_sum += grad_log_sigmoid(weights, observation, action)\n",
    "        if done:\n",
    "            break\n",
    "    return cum_reward, grad_log_sum"
   ]
  },
  {
   "cell_type": "code",
   "execution_count": null,
   "metadata": {
    "collapsed": true
   },
   "outputs": [],
   "source": [
    "def record_cartpole_run(weights):\n",
    "    observation = ENV.reset()\n",
    "    \n",
    "    all_observations = np.zeros((1, 4))\n",
    "    all_observations[0, :] = observation\n",
    "        \n",
    "    all_actions = []\n",
    "    for t in range(1000):\n",
    "        action = get_action(weights, observation)\n",
    "        all_actions.append(action)\n",
    "        \n",
    "        observation, reward, done, info = ENV.step(action)\n",
    "        all_observations = np.vstack((all_observations, observation))\n",
    "        \n",
    "        if done:\n",
    "            break\n",
    "\n",
    "    return all_observations[:-1, :], all_actions "
   ]
  },
  {
   "cell_type": "code",
   "execution_count": null,
   "metadata": {
    "collapsed": true
   },
   "outputs": [],
   "source": [
    "def get_grad_reward(weights, obs, actions, regression_model):\n",
    "    grad_reward = np.zeros(4)\n",
    "    for i in xrange(len(actions)):\n",
    "        remaining_time = len(actions) - i\n",
    "        baseline = regression_model.predict(obs[i, :].reshape(1, -1))\n",
    "        grad_reward += grad_log_sigmoid(weights, obs[i, :], actions[i]) * (remaining_time - baseline)\n",
    "    return grad_reward"
   ]
  },
  {
   "cell_type": "code",
   "execution_count": null,
   "metadata": {
    "collapsed": false
   },
   "outputs": [],
   "source": [
    "from sklearn import linear_model\n",
    "\n",
    "batch_n = 10 ** 2\n",
    "grad_sample = 50\n",
    "weights = initialize_random_weights(0, 1)\n",
    "weights_cap = 10\n",
    "learning_rate = 10 ** (-2)\n",
    "current_score = [0] * (batch_n * grad_sample)\n",
    "\n",
    "regression_model = linear_model.LinearRegression()\n",
    "regression_model.fit([[0, 0, 0, 0]], [0])\n",
    "\n",
    "for i in range(batch_n):\n",
    "    if i % 10 == 0:\n",
    "        print i, weights\n",
    "            \n",
    "    avg_grad_log_sum = np.zeros(4)\n",
    "    \n",
    "    all_obs = np.array([]).reshape(0,4)\n",
    "    all_rewards = np.array([])\n",
    "    \n",
    "    for k in range(grad_sample):\n",
    "        obs, actions = record_cartpole_run(weights)\n",
    "        all_obs = np.vstack((all_obs, obs))\n",
    "        all_rewards = np.hstack((all_rewards, np.arange(len(obs))[::-1]))\n",
    "        \n",
    "        avg_grad_log_sum += get_grad_reward(weights, obs, actions, regression_model)\n",
    "        current_score[i * grad_sample + k] = len(actions)\n",
    "        \n",
    "    regression_model = linear_model.LinearRegression()\n",
    "    regression_model.fit(all_obs, all_rewards)\n",
    "        \n",
    "    avg_grad_log_sum /= grad_sample\n",
    "    \n",
    "    weights += learning_rate * avg_grad_log_sum    \n",
    "    \n",
    "print weights, current_score[-1]"
   ]
  },
  {
   "cell_type": "code",
   "execution_count": null,
   "metadata": {
    "collapsed": false
   },
   "outputs": [],
   "source": [
    "sum(current_score[-100:]) / 100"
   ]
  },
  {
   "cell_type": "code",
   "execution_count": null,
   "metadata": {
    "collapsed": false
   },
   "outputs": [],
   "source": [
    "plt.plot(range(len(current_score)), current_score)\n",
    "plt.plot(range(len(current_score)), current_score)\n",
    "plt.show()"
   ]
  }
 ],
 "metadata": {
  "kernelspec": {
   "display_name": "Python 2",
   "language": "python",
   "name": "python2"
  },
  "language_info": {
   "codemirror_mode": {
    "name": "ipython",
    "version": 2
   },
   "file_extension": ".py",
   "mimetype": "text/x-python",
   "name": "python",
   "nbconvert_exporter": "python",
   "pygments_lexer": "ipython2",
   "version": "2.7.12"
  }
 },
 "nbformat": 4,
 "nbformat_minor": 1
}
