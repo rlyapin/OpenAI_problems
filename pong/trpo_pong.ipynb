{
 "cells": [
  {
   "cell_type": "code",
   "execution_count": null,
   "metadata": {},
   "outputs": [],
   "source": [
    "import gym\n",
    "import tensorflow as tf\n",
    "import numpy as np\n",
    "import skimage.transform\n",
    "import scipy.ndimage.filters\n",
    "import matplotlib.pyplot as plt\n",
    "import imageio"
   ]
  },
  {
   "cell_type": "code",
   "execution_count": null,
   "metadata": {},
   "outputs": [],
   "source": [
    "%matplotlib inline"
   ]
  },
  {
   "cell_type": "code",
   "execution_count": null,
   "metadata": {},
   "outputs": [],
   "source": [
    "env = gym.make('Pong-v0')"
   ]
  },
  {
   "cell_type": "code",
   "execution_count": null,
   "metadata": {},
   "outputs": [],
   "source": [
    "ob = env.reset()\n",
    "for i in xrange(25):\n",
    "    ob, _, _, _ = env.step(1)\n",
    "print ob.shape\n",
    "plt.imshow(ob)\n",
    "plt.show()"
   ]
  },
  {
   "cell_type": "code",
   "execution_count": null,
   "metadata": {},
   "outputs": [],
   "source": [
    "ob_gray = np.dot(ob[...,:3], [0.299, 0.587, 0.114])\n",
    "ob_crop = ob_gray[34:194, :]\n",
    "ob_blur = scipy.ndimage.filters.gaussian_filter(ob_crop, 5)\n",
    "ob_resize = skimage.transform.resize(ob_blur, (32, 32), order=0)\n",
    "plt.imshow(ob_resize, cmap = plt.get_cmap('gray'))\n",
    "plt.show()"
   ]
  },
  {
   "cell_type": "markdown",
   "metadata": {},
   "source": [
    "## Calibrating the environment\n"
   ]
  },
  {
   "cell_type": "code",
   "execution_count": null,
   "metadata": {},
   "outputs": [],
   "source": [
    "def parse_observation(ob):\n",
    "    # The function that takes the original frame from Pong game and transforms it:\n",
    "    # grayscale, cropping, blurring and resizing are performed\n",
    "    ob_gray = np.dot(ob[...,:3], [0.299, 0.587, 0.114])\n",
    "    ob_crop = ob_gray[34:194, :]\n",
    "    ob_blur = scipy.ndimage.filters.gaussian_filter(ob_crop, 5)\n",
    "    ob_resize = skimage.transform.resize(ob_blur, (32, 32), order=0)\n",
    "    return np.expand_dims(ob_resize, axis=-1)\n",
    "\n",
    "class Custom_Pong_Env:\n",
    "    # The main of this custom environment is to preprocess the images one receives from original env\n",
    "    # Currently is simply a placeholder\n",
    "    def __init__(self, proper_gym_env):\n",
    "        self.gym_env = proper_gym_env\n",
    "        \n",
    "    def reset(self):\n",
    "        ob = self.gym_env.reset()\n",
    "        return parse_observation(ob)\n",
    "    \n",
    "    def step(self, action):\n",
    "        ob, reward, done, info = self.gym_env.step(action) \n",
    "        return parse_observation(ob), reward, done, info  "
   ]
  },
  {
   "cell_type": "markdown",
   "metadata": {},
   "source": [
    "## Making use of generic agent / environment scripts"
   ]
  },
  {
   "cell_type": "code",
   "execution_count": null,
   "metadata": {},
   "outputs": [],
   "source": [
    "import sys\n",
    "sys.path.append(\"..\")\n",
    "from rl_agent import RL_Agent\n",
    "from rl_learner import TRPO_Learner"
   ]
  },
  {
   "cell_type": "code",
   "execution_count": null,
   "metadata": {},
   "outputs": [],
   "source": [
    "class Pong_Agent(RL_Agent):\n",
    "    # Overwriting supposedly abstract RL_Agent class\n",
    "    # All what is left is to actually provide the specific model to choose action\n",
    "    # It is still implied that\n",
    "    # 1) __init__ method defines all its variables in model_name scope\n",
    "    # 2) the class has self.session, self.prob_layer and self.log_prob_layer methods\n",
    "    # The remaining functionality needed in PG and TRPO learners is still defined in abstract base\n",
    "    def __init__(self, model_name):\n",
    "        RL_Agent.__init__(self, model_name)\n",
    "        with tf.variable_scope(model_name):\n",
    "            self.session = tf.Session()\n",
    "\n",
    "            self.input_layer = tf.placeholder(shape=[None, 32, 32, 1], dtype=tf.float32)\n",
    "            self.conv_1 = tf.layers.conv2d(self.input_layer, filters=8, kernel_size=5, strides=2, padding=\"same\", activation=tf.nn.relu)\n",
    "            self.pool_1 = tf.layers.max_pooling2d(self.conv_1, pool_size=3, strides=2, padding=\"same\")\n",
    "\n",
    "            self.conv_2 = tf.layers.conv2d(self.pool_1, filters=16, kernel_size=5, strides=1, padding=\"same\", activation=tf.nn.relu)\n",
    "            self.pool_2 = tf.layers.max_pooling2d(self.conv_2, pool_size=3, strides=2, padding=\"same\")\n",
    "\n",
    "            self.conv_3 = tf.layers.conv2d(self.pool_2, filters=32, kernel_size=5, strides=1, padding=\"same\", activation=tf.nn.relu)\n",
    "            self.pool_3 = tf.layers.max_pooling2d(self.conv_3, pool_size=3, strides=2, padding=\"same\")\n",
    "\n",
    "            self.flat = tf.contrib.layers.flatten(self.pool_3)\n",
    "            self.dense_1 = tf.layers.dense(self.flat, units=10, activation=tf.nn.relu)\n",
    "            self.dense_2 = tf.layers.dense(self.dense_1, units=2)\n",
    "                        \n",
    "            self.prob_layer = tf.maximum(tf.minimum(tf.nn.softmax(self.dense_2), 0.9999), 0.0001)\n",
    "            self.log_prob_layer = tf.log(self.prob_layer)\n",
    "                        \n",
    "            self.session.run(tf.global_variables_initializer())"
   ]
  },
  {
   "cell_type": "code",
   "execution_count": null,
   "metadata": {},
   "outputs": [],
   "source": [
    "tf.reset_default_graph()\n",
    "trpo = TRPO_Learner(rl_agent=Pong_Agent(\"2018_01_23_pong_model\"), \n",
    "                    game_env=Custom_Pong_Env(env),\n",
    "                    discount=0.99, \n",
    "                    batch_size=250, \n",
    "                    frame_cap=250,\n",
    "                    trpo_delta=0.02,\n",
    "                    line_search_option=\"max\")\n",
    "\n",
    "for i in range(100):\n",
    "    trpo.step()"
   ]
  }
 ],
 "metadata": {
  "kernelspec": {
   "display_name": "Python 2",
   "language": "python",
   "name": "python2"
  },
  "language_info": {
   "codemirror_mode": {
    "name": "ipython",
    "version": 2
   },
   "file_extension": ".py",
   "mimetype": "text/x-python",
   "name": "python",
   "nbconvert_exporter": "python",
   "pygments_lexer": "ipython2",
   "version": "2.7.13"
  }
 },
 "nbformat": 4,
 "nbformat_minor": 2
}
