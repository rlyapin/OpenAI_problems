{
 "cells": [
  {
   "cell_type": "markdown",
   "metadata": {},
   "source": [
    "Based on the paper: https://arxiv.org/pdf/1502.05477.pdf\n",
    "\n",
    "Some help: https://github.com/wojzaremba/trpo/blob/master/main.py\n",
    "\n",
    "Main help: https://github.com/tensorflow/models/blob/master/pcl_rl/trust_region.py\n",
    "\n",
    "Sketch of proof for KL expression via Fisher Information matrix (another proof simply uses Taylor expansion): https://stats.stackexchange.com/questions/51185/connection-between-fisher-metric-and-the-relative-entropy\n",
    "\n",
    "Short reference: https://roosephu.github.io/2016/11/19/TRPO/"
   ]
  },
  {
   "cell_type": "code",
   "execution_count": null,
   "metadata": {},
   "outputs": [],
   "source": [
    "import gym\n",
    "import gym_ple\n",
    "import tensorflow as tf\n",
    "import numpy as np\n",
    "import matplotlib.pyplot as plt\n",
    "import imageio"
   ]
  },
  {
   "cell_type": "code",
   "execution_count": null,
   "metadata": {},
   "outputs": [],
   "source": [
    "%matplotlib inline"
   ]
  },
  {
   "cell_type": "code",
   "execution_count": null,
   "metadata": {},
   "outputs": [],
   "source": [
    "env = gym.make('FlappyBird-v0')"
   ]
  },
  {
   "cell_type": "code",
   "execution_count": null,
   "metadata": {},
   "outputs": [],
   "source": [
    "ob = env.reset()\n",
    "print ob.shape\n",
    "plt.imshow(ob)\n",
    "plt.show()"
   ]
  },
  {
   "cell_type": "markdown",
   "metadata": {},
   "source": [
    "## Calibrating the environment"
   ]
  },
  {
   "cell_type": "markdown",
   "metadata": {},
   "source": [
    "Original Flappy Bird environment may be too difficult to attack with simple TRPO (main reason is that TRPO assumes a markovian setting and during the actual game you need to track the history of clicks)\n",
    "\n",
    "To make it easier I create an environemnt on top of the original one - I still retain the original mechanics but did some reward hacking on top of it to, hopefully, speed up learning "
   ]
  },
  {
   "cell_type": "code",
   "execution_count": null,
   "metadata": {},
   "outputs": [],
   "source": [
    "class Custom_Flappy_Env:\n",
    "    def __init__(self, proper_gym_env):\n",
    "        self.gym_env = proper_gym_env\n",
    "        \n",
    "    def reset(self):\n",
    "        return self.gym_env.reset()\n",
    "    \n",
    "    def step(self, action):\n",
    "        observation, reward, done, info = self.gym_env.step(action)\n",
    "        return observation, 1.0, done, info        "
   ]
  },
  {
   "cell_type": "markdown",
   "metadata": {},
   "source": [
    "## Making use of generic agent / environment scripts"
   ]
  },
  {
   "cell_type": "code",
   "execution_count": null,
   "metadata": {},
   "outputs": [],
   "source": [
    "import sys\n",
    "sys.path.append(\"..\")\n",
    "from rl_agent import RL_Agent\n",
    "from rl_learner import TRPO_Learner"
   ]
  },
  {
   "cell_type": "code",
   "execution_count": null,
   "metadata": {},
   "outputs": [],
   "source": [
    "class Flappy_Agent(RL_Agent):\n",
    "    # Overwriting supposedly abstract RL_Agent class\n",
    "    # All what is left is to actually provide the specific model to choose action\n",
    "    # It is still implied that\n",
    "    # 1) __init__ method defines all its variables in model_name scope\n",
    "    # 2) the class has self.session, self.prob_layer and self.log_prob_layer methods\n",
    "    # The remaining functionality needed in PG and TRPO learners is still defined in abstract base\n",
    "    def __init__(self, model_name):\n",
    "        RL_Agent.__init__(self, model_name)\n",
    "        with tf.variable_scope(model_name):\n",
    "            self.session = tf.Session()\n",
    "\n",
    "            self.input_layer = tf.placeholder(shape=[None, 512, 288, 3], dtype=tf.float32)\n",
    "            self.conv_1 = tf.layers.conv2d(self.input_layer, filters=8, kernel_size=5, strides=2, activation=tf.nn.relu)\n",
    "            self.pool_1 = tf.layers.max_pooling2d(self.conv_1, pool_size=3, strides=2)\n",
    "\n",
    "            self.conv_2 = tf.layers.conv2d(self.pool_1, filters=16, kernel_size=5, strides=2, activation=tf.nn.relu)\n",
    "            self.pool_2 = tf.layers.max_pooling2d(self.conv_2, pool_size=3, strides=2)\n",
    "\n",
    "            self.conv_3 = tf.layers.conv2d(self.pool_2, filters=32, kernel_size=5, strides=2, activation=tf.nn.relu)\n",
    "            self.pool_3 = tf.layers.max_pooling2d(self.conv_3, pool_size=3, strides=2)\n",
    "\n",
    "            self.flat = tf.contrib.layers.flatten(self.pool_3)\n",
    "            self.dense_1 = tf.layers.dense(self.flat, units=25, activation=tf.nn.relu)\n",
    "            self.dense_2 = tf.layers.dense(self.dense_1, units=2)\n",
    "                        \n",
    "            self.prob_layer = tf.maximum(tf.minimum(tf.nn.softmax(self.dense_2), 0.9999), 0.0001)\n",
    "            self.log_prob_layer = tf.log(self.prob_layer)\n",
    "                        \n",
    "            self.session.run(tf.global_variables_initializer())"
   ]
  },
  {
   "cell_type": "code",
   "execution_count": null,
   "metadata": {},
   "outputs": [],
   "source": [
    "tf.reset_default_graph()\n",
    "trpo = TRPO_Learner(rl_agent=Flappy_Agent(\"2018_01_20_flappy_model\"), \n",
    "                    game_env=Custom_Flappy_Env(env),\n",
    "                    discount=0.99, \n",
    "                    batch_size=25, \n",
    "                    frame_cap=100,\n",
    "                    trpo_delta=0.02,\n",
    "                    line_search_option=\"max\")\n",
    "\n",
    "for i in range(10):\n",
    "    trpo.step()"
   ]
  },
  {
   "cell_type": "markdown",
   "metadata": {},
   "source": [
    "## Visualizing played flappybird game"
   ]
  },
  {
   "cell_type": "code",
   "execution_count": null,
   "metadata": {},
   "outputs": [],
   "source": [
    "from IPython.display import HTML\n",
    "states, _, _ = trpo.play_single_game()\n",
    "gif_location = \"simulations/\" + trpo.agent.model_name + \"_after_\" + str(trpo.played_games) + \"_games.gif\"\n",
    "imageio.mimsave(gif_location, states)\n",
    "HTML('<img src=\"' + gif_location + '\">')"
   ]
  }
 ],
 "metadata": {
  "kernelspec": {
   "display_name": "Python 2",
   "language": "python",
   "name": "python2"
  },
  "language_info": {
   "codemirror_mode": {
    "name": "ipython",
    "version": 2
   },
   "file_extension": ".py",
   "mimetype": "text/x-python",
   "name": "python",
   "nbconvert_exporter": "python",
   "pygments_lexer": "ipython2",
   "version": "2.7.13"
  }
 },
 "nbformat": 4,
 "nbformat_minor": 1
}
